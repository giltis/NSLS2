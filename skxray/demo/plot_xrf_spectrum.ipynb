{
 "metadata": {
  "name": "",
  "signature": "sha256:f9876394559a9bf800004c21fb90ea77baf3db2282ca32d38ceb720aa49a6810"
 },
 "nbformat": 3,
 "nbformat_minor": 0,
 "worksheets": [
  {
   "cells": [
    {
     "cell_type": "code",
     "collapsed": false,
     "input": [
      "ls"
     ],
     "language": "python",
     "metadata": {},
     "outputs": [
      {
       "output_type": "stream",
       "stream": "stdout",
       "text": [
        "Untitled0.ipynb       demo_xrf_spectrum.py\r\n"
       ]
      }
     ],
     "prompt_number": 1
    },
    {
     "cell_type": "heading",
     "level": 3,
     "metadata": {},
     "source": [
      "Inline plot"
     ]
    },
    {
     "cell_type": "code",
     "collapsed": false,
     "input": [
      "%matplotlib inline"
     ],
     "language": "python",
     "metadata": {},
     "outputs": [],
     "prompt_number": 1
    },
    {
     "cell_type": "heading",
     "level": 3,
     "metadata": {},
     "source": [
      "Import Element library"
     ]
    },
    {
     "cell_type": "code",
     "collapsed": false,
     "input": [
      "from skxray.constants import Element"
     ],
     "language": "python",
     "metadata": {},
     "outputs": [],
     "prompt_number": 2
    },
    {
     "cell_type": "heading",
     "level": 3,
     "metadata": {},
     "source": [
      "Initiate Element object"
     ]
    },
    {
     "cell_type": "code",
     "collapsed": false,
     "input": [
      "e = Element('Cu')"
     ],
     "language": "python",
     "metadata": {},
     "outputs": [],
     "prompt_number": 3
    },
    {
     "cell_type": "heading",
     "level": 3,
     "metadata": {},
     "source": [
      "Output a given emission line"
     ]
    },
    {
     "cell_type": "code",
     "collapsed": false,
     "input": [
      "e.emission_line['ka1']"
     ],
     "language": "python",
     "metadata": {},
     "outputs": [
      {
       "metadata": {},
       "output_type": "pyout",
       "prompt_number": 4,
       "text": [
        "8.047800064086914"
       ]
      }
     ],
     "prompt_number": 4
    },
    {
     "cell_type": "heading",
     "level": 3,
     "metadata": {},
     "source": [
      "Output all the emission lines"
     ]
    },
    {
     "cell_type": "code",
     "collapsed": false,
     "input": [
      "e.emission_line.all"
     ],
     "language": "python",
     "metadata": {},
     "outputs": [
      {
       "metadata": {},
       "output_type": "pyout",
       "prompt_number": 5,
       "text": [
        "[(u'ka1', 8.047800064086914),\n",
        " (u'ka2', 8.027899742126465),\n",
        " (u'kb1', 8.90530014038086),\n",
        " (u'kb2', 0.0),\n",
        " (u'la1', 0.9294999837875366),\n",
        " (u'la2', 0.9294999837875366),\n",
        " (u'lb1', 0.949400007724762),\n",
        " (u'lb2', 0.0),\n",
        " (u'lb3', 1.0225000381469727),\n",
        " (u'lb4', 1.0225000381469727),\n",
        " (u'lb5', 0.0),\n",
        " (u'lg1', 0.0),\n",
        " (u'lg2', 0.0),\n",
        " (u'lg3', 0.0),\n",
        " (u'lg4', 0.0),\n",
        " (u'll', 0.8112999796867371),\n",
        " (u'ln', 0.8312000036239624),\n",
        " (u'ma1', 0.0),\n",
        " (u'ma2', 0.0),\n",
        " (u'mb', 0.0),\n",
        " (u'mg', 0.0)]"
       ]
      }
     ],
     "prompt_number": 5
    },
    {
     "cell_type": "heading",
     "level": 3,
     "metadata": {},
     "source": [
      "Output all the fluorescence cross sections at given incident energy"
     ]
    },
    {
     "cell_type": "code",
     "collapsed": false,
     "input": [
      "e.cs(12).all"
     ],
     "language": "python",
     "metadata": {},
     "outputs": [
      {
       "metadata": {},
       "output_type": "pyout",
       "prompt_number": 13,
       "text": [
        "[(u'ka1', 29.98725128173828),\n",
        " (u'ka2', 15.390570640563965),\n",
        " (u'kb1', 4.021419048309326),\n",
        " (u'kb2', 0.0),\n",
        " (u'la1', 0.08273135870695114),\n",
        " (u'la2', 0.009345882572233677),\n",
        " (u'lb1', 0.02752106636762619),\n",
        " (u'lb2', 0.0),\n",
        " (u'lb3', 0.002115873387083411),\n",
        " (u'lb4', 0.0011497794184833765),\n",
        " (u'lb5', 0.0),\n",
        " (u'lg1', 0.0),\n",
        " (u'lg2', 0.0),\n",
        " (u'lg3', 0.0),\n",
        " (u'lg4', 0.0),\n",
        " (u'll', 0.0057275183498859406),\n",
        " (u'ln', 0.0015669440617784858),\n",
        " (u'ma1', 0.0),\n",
        " (u'ma2', 0.0),\n",
        " (u'mb', 0.0),\n",
        " (u'mg', 0.0)]"
       ]
      }
     ],
     "prompt_number": 13
    },
    {
     "cell_type": "heading",
     "level": 3,
     "metadata": {},
     "source": [
      "Import functions to plot emission lines, and spectrum"
     ]
    },
    {
     "cell_type": "code",
     "collapsed": false,
     "input": [
      "%run demo_xrf_spectrum\n",
      "from demo_xrf_spectrum import (get_line, get_spectrum)"
     ],
     "language": "python",
     "metadata": {},
     "outputs": [],
     "prompt_number": 6
    },
    {
     "cell_type": "heading",
     "level": 3,
     "metadata": {},
     "source": [
      "Plot spectrum for element Cu"
     ]
    },
    {
     "cell_type": "code",
     "collapsed": false,
     "input": [
      "get_line('Cu', 12)"
     ],
     "language": "python",
     "metadata": {},
     "outputs": [
      {
       "metadata": {},
       "output_type": "display_data",
       "png": "[encoded data removed]",
       "text": [
        "<matplotlib.figure.Figure at 0x109a3cf50>"
       ]
      }
     ],
     "prompt_number": 9
    },
    {
     "cell_type": "code",
     "collapsed": false,
     "input": [
      "get_spectrum('Cu', 12)"
     ],
     "language": "python",
     "metadata": {},
     "outputs": [
      {
       "metadata": {},
       "output_type": "display_data",
       "png": "[encoded data removed]",
       "text": [
        "<matplotlib.figure.Figure at 0x109a84d90>"
       ]
      }
     ],
     "prompt_number": 10
    },
    {
     "cell_type": "heading",
     "level": 3,
     "metadata": {},
     "source": [
      "Plot spectrum for element Gd"
     ]
    },
    {
     "cell_type": "code",
     "collapsed": false,
     "input": [
      "get_line('Gd', 12)"
     ],
     "language": "python",
     "metadata": {},
     "outputs": [
      {
       "metadata": {},
       "output_type": "display_data",
       "png": "[encoded data removed]",
       "text": [
        "<matplotlib.figure.Figure at 0x10c15efd0>"
       ]
      }
     ],
     "prompt_number": 11
    },
    {
     "cell_type": "code",
     "collapsed": false,
     "input": [
      "get_spectrum('Gd', 12)"
     ],
     "language": "python",
     "metadata": {},
     "outputs": [
      {
       "metadata": {},
       "output_type": "display_data",
       "png": "[encoded data removed]",
       "text": [
        "<matplotlib.figure.Figure at 0x109b0c4d0>"
       ]
      }
     ],
     "prompt_number": 12
    },
    {
     "cell_type": "code",
     "collapsed": false,
     "input": [],
     "language": "python",
     "metadata": {},
     "outputs": []
    }
   ],
   "metadata": {}
  }
 ]
}